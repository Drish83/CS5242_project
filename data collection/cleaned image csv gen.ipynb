{
 "cells": [
  {
   "cell_type": "code",
   "execution_count": 2,
   "metadata": {},
   "outputs": [],
   "source": [
    "import pandas as pd\n",
    "import os\n",
    "from pathlib import Path\n",
    "from PIL import Image"
   ]
  },
  {
   "cell_type": "code",
   "execution_count": 3,
   "metadata": {},
   "outputs": [],
   "source": [
    "path = Path(\"data clean\")"
   ]
  },
  {
   "cell_type": "code",
   "execution_count": 4,
   "metadata": {},
   "outputs": [
    {
     "name": "stdout",
     "output_type": "stream",
     "text": [
      "bbq stingray.csv\n",
      "charsiew.csv\n",
      "cleaned_aash.csv\n",
      "fish_head_curry.csv\n",
      "oyster_omelette.csv\n",
      "satay.csv\n"
     ]
    }
   ],
   "source": [
    "for item in os.listdir('.'):\n",
    "    if item.endswith('.csv'):\n",
    "        print(item)"
   ]
  },
  {
   "cell_type": "code",
   "execution_count": 5,
   "metadata": {},
   "outputs": [
    {
     "name": "stdout",
     "output_type": "stream",
     "text": [
      "temp.shape=(648, 3)\n",
      "temp.shape=(672, 3)\n",
      "temp.shape=(2627, 3)\n",
      "temp.shape=(595, 3)\n",
      "temp.shape=(570, 3)\n",
      "temp.shape=(668, 3)\n"
     ]
    },
    {
     "name": "stderr",
     "output_type": "stream",
     "text": [
      "C:\\Users\\kradk\\AppData\\Local\\Temp\\ipykernel_9868\\3845507636.py:7: FutureWarning: The frame.append method is deprecated and will be removed from pandas in a future version. Use pandas.concat instead.\n",
      "  df = df.append(temp, ignore_index=True)\n",
      "C:\\Users\\kradk\\AppData\\Local\\Temp\\ipykernel_9868\\3845507636.py:7: FutureWarning: The frame.append method is deprecated and will be removed from pandas in a future version. Use pandas.concat instead.\n",
      "  df = df.append(temp, ignore_index=True)\n",
      "C:\\Users\\kradk\\AppData\\Local\\Temp\\ipykernel_9868\\3845507636.py:7: FutureWarning: The frame.append method is deprecated and will be removed from pandas in a future version. Use pandas.concat instead.\n",
      "  df = df.append(temp, ignore_index=True)\n",
      "C:\\Users\\kradk\\AppData\\Local\\Temp\\ipykernel_9868\\3845507636.py:7: FutureWarning: The frame.append method is deprecated and will be removed from pandas in a future version. Use pandas.concat instead.\n",
      "  df = df.append(temp, ignore_index=True)\n",
      "C:\\Users\\kradk\\AppData\\Local\\Temp\\ipykernel_9868\\3845507636.py:7: FutureWarning: The frame.append method is deprecated and will be removed from pandas in a future version. Use pandas.concat instead.\n",
      "  df = df.append(temp, ignore_index=True)\n",
      "C:\\Users\\kradk\\AppData\\Local\\Temp\\ipykernel_9868\\3845507636.py:7: FutureWarning: The frame.append method is deprecated and will be removed from pandas in a future version. Use pandas.concat instead.\n",
      "  df = df.append(temp, ignore_index=True)\n"
     ]
    }
   ],
   "source": [
    "df = pd.DataFrame()\n",
    "\n",
    "for item in os.listdir('.'):\n",
    "    if item.endswith('.csv'):\n",
    "        temp = pd.read_csv(item)\n",
    "        print(f'{temp.shape=}')\n",
    "        df = df.append(temp, ignore_index=True)"
   ]
  },
  {
   "cell_type": "code",
   "execution_count": 6,
   "metadata": {},
   "outputs": [
    {
     "data": {
      "text/html": [
       "<div>\n",
       "<style scoped>\n",
       "    .dataframe tbody tr th:only-of-type {\n",
       "        vertical-align: middle;\n",
       "    }\n",
       "\n",
       "    .dataframe tbody tr th {\n",
       "        vertical-align: top;\n",
       "    }\n",
       "\n",
       "    .dataframe thead th {\n",
       "        text-align: right;\n",
       "    }\n",
       "</style>\n",
       "<table border=\"1\" class=\"dataframe\">\n",
       "  <thead>\n",
       "    <tr style=\"text-align: right;\">\n",
       "      <th></th>\n",
       "      <th>image_path</th>\n",
       "      <th>image_url</th>\n",
       "      <th>image_class</th>\n",
       "    </tr>\n",
       "  </thead>\n",
       "  <tbody>\n",
       "    <tr>\n",
       "      <th>0</th>\n",
       "      <td>bbq stingray/1.jpeg</td>\n",
       "      <td>https://eatbook.sg/wp-content/uploads/2018/10/...</td>\n",
       "      <td>bbq stingray</td>\n",
       "    </tr>\n",
       "    <tr>\n",
       "      <th>1</th>\n",
       "      <td>bbq stingray/2.jpeg</td>\n",
       "      <td>http://sethlui.com/wp-content/uploads/2016/01/...</td>\n",
       "      <td>bbq stingray</td>\n",
       "    </tr>\n",
       "    <tr>\n",
       "      <th>2</th>\n",
       "      <td>bbq stingray/3.jpeg</td>\n",
       "      <td>https://asianfoodnetwork.com/content/dam/afn/g...</td>\n",
       "      <td>bbq stingray</td>\n",
       "    </tr>\n",
       "    <tr>\n",
       "      <th>3</th>\n",
       "      <td>bbq stingray/4.jpeg</td>\n",
       "      <td>https://img-global.cpcdn.com/recipes/fb91b51c3...</td>\n",
       "      <td>bbq stingray</td>\n",
       "    </tr>\n",
       "    <tr>\n",
       "      <th>4</th>\n",
       "      <td>bbq stingray/5.jpeg</td>\n",
       "      <td>https://1.bp.blogspot.com/-v6545h4DEUU/XuNmwrS...</td>\n",
       "      <td>bbq stingray</td>\n",
       "    </tr>\n",
       "    <tr>\n",
       "      <th>...</th>\n",
       "      <td>...</td>\n",
       "      <td>...</td>\n",
       "      <td>...</td>\n",
       "    </tr>\n",
       "    <tr>\n",
       "      <th>5775</th>\n",
       "      <td>satay/716.jpeg</td>\n",
       "      <td>https://healthyfitnessmeals.com/wp-content/upl...</td>\n",
       "      <td>satay</td>\n",
       "    </tr>\n",
       "    <tr>\n",
       "      <th>5776</th>\n",
       "      <td>satay/717.jpeg</td>\n",
       "      <td>https://findd.sg/custom/domain_1/image_files/s...</td>\n",
       "      <td>satay</td>\n",
       "    </tr>\n",
       "    <tr>\n",
       "      <th>5777</th>\n",
       "      <td>satay/718.jpeg</td>\n",
       "      <td>https://www.recipetineats.com/wp-content/uploa...</td>\n",
       "      <td>satay</td>\n",
       "    </tr>\n",
       "    <tr>\n",
       "      <th>5778</th>\n",
       "      <td>satay/719.jpeg</td>\n",
       "      <td>https://kwongsatay.com.sg/wordpress/wp-content...</td>\n",
       "      <td>satay</td>\n",
       "    </tr>\n",
       "    <tr>\n",
       "      <th>5779</th>\n",
       "      <td>satay/720.jpeg</td>\n",
       "      <td>https://www.eheartland.sg/wp-content/uploads/2...</td>\n",
       "      <td>satay</td>\n",
       "    </tr>\n",
       "  </tbody>\n",
       "</table>\n",
       "<p>5780 rows × 3 columns</p>\n",
       "</div>"
      ],
      "text/plain": [
       "               image_path                                          image_url  \\\n",
       "0     bbq stingray/1.jpeg  https://eatbook.sg/wp-content/uploads/2018/10/...   \n",
       "1     bbq stingray/2.jpeg  http://sethlui.com/wp-content/uploads/2016/01/...   \n",
       "2     bbq stingray/3.jpeg  https://asianfoodnetwork.com/content/dam/afn/g...   \n",
       "3     bbq stingray/4.jpeg  https://img-global.cpcdn.com/recipes/fb91b51c3...   \n",
       "4     bbq stingray/5.jpeg  https://1.bp.blogspot.com/-v6545h4DEUU/XuNmwrS...   \n",
       "...                   ...                                                ...   \n",
       "5775       satay/716.jpeg  https://healthyfitnessmeals.com/wp-content/upl...   \n",
       "5776       satay/717.jpeg  https://findd.sg/custom/domain_1/image_files/s...   \n",
       "5777       satay/718.jpeg  https://www.recipetineats.com/wp-content/uploa...   \n",
       "5778       satay/719.jpeg  https://kwongsatay.com.sg/wordpress/wp-content...   \n",
       "5779       satay/720.jpeg  https://www.eheartland.sg/wp-content/uploads/2...   \n",
       "\n",
       "       image_class  \n",
       "0     bbq stingray  \n",
       "1     bbq stingray  \n",
       "2     bbq stingray  \n",
       "3     bbq stingray  \n",
       "4     bbq stingray  \n",
       "...            ...  \n",
       "5775         satay  \n",
       "5776         satay  \n",
       "5777         satay  \n",
       "5778         satay  \n",
       "5779         satay  \n",
       "\n",
       "[5780 rows x 3 columns]"
      ]
     },
     "execution_count": 6,
     "metadata": {},
     "output_type": "execute_result"
    }
   ],
   "source": [
    "df"
   ]
  },
  {
   "cell_type": "code",
   "execution_count": 7,
   "metadata": {},
   "outputs": [],
   "source": [
    "def get_valid_paths(row):\n",
    "    try:\n",
    "        Image.open(path/row.image_path)\n",
    "        return True\n",
    "    except Exception as e:\n",
    "        return False\n",
    "\n",
    "valid_paths = df.apply(get_valid_paths, axis=1)"
   ]
  },
  {
   "cell_type": "code",
   "execution_count": 11,
   "metadata": {},
   "outputs": [
    {
     "data": {
      "text/plain": [
       "2627"
      ]
     },
     "execution_count": 11,
     "metadata": {},
     "output_type": "execute_result"
    }
   ],
   "source": [
    "valid_paths.sum()"
   ]
  },
  {
   "cell_type": "code",
   "execution_count": 12,
   "metadata": {},
   "outputs": [],
   "source": [
    "df = df.loc[valid_paths].reset_index(drop=True)"
   ]
  },
  {
   "cell_type": "code",
   "execution_count": 13,
   "metadata": {},
   "outputs": [
    {
     "data": {
      "text/html": [
       "<div>\n",
       "<style scoped>\n",
       "    .dataframe tbody tr th:only-of-type {\n",
       "        vertical-align: middle;\n",
       "    }\n",
       "\n",
       "    .dataframe tbody tr th {\n",
       "        vertical-align: top;\n",
       "    }\n",
       "\n",
       "    .dataframe thead th {\n",
       "        text-align: right;\n",
       "    }\n",
       "</style>\n",
       "<table border=\"1\" class=\"dataframe\">\n",
       "  <thead>\n",
       "    <tr style=\"text-align: right;\">\n",
       "      <th></th>\n",
       "      <th>image_path</th>\n",
       "      <th>image_url</th>\n",
       "      <th>image_class</th>\n",
       "    </tr>\n",
       "  </thead>\n",
       "  <tbody>\n",
       "    <tr>\n",
       "      <th>0</th>\n",
       "      <td>bbq stingray/1.jpeg</td>\n",
       "      <td>https://eatbook.sg/wp-content/uploads/2018/10/...</td>\n",
       "      <td>bbq stingray</td>\n",
       "    </tr>\n",
       "    <tr>\n",
       "      <th>1</th>\n",
       "      <td>bbq stingray/2.jpeg</td>\n",
       "      <td>http://sethlui.com/wp-content/uploads/2016/01/...</td>\n",
       "      <td>bbq stingray</td>\n",
       "    </tr>\n",
       "    <tr>\n",
       "      <th>2</th>\n",
       "      <td>bbq stingray/3.jpeg</td>\n",
       "      <td>https://asianfoodnetwork.com/content/dam/afn/g...</td>\n",
       "      <td>bbq stingray</td>\n",
       "    </tr>\n",
       "    <tr>\n",
       "      <th>3</th>\n",
       "      <td>bbq stingray/4.jpeg</td>\n",
       "      <td>https://img-global.cpcdn.com/recipes/fb91b51c3...</td>\n",
       "      <td>bbq stingray</td>\n",
       "    </tr>\n",
       "    <tr>\n",
       "      <th>4</th>\n",
       "      <td>bbq stingray/5.jpeg</td>\n",
       "      <td>https://1.bp.blogspot.com/-v6545h4DEUU/XuNmwrS...</td>\n",
       "      <td>bbq stingray</td>\n",
       "    </tr>\n",
       "    <tr>\n",
       "      <th>...</th>\n",
       "      <td>...</td>\n",
       "      <td>...</td>\n",
       "      <td>...</td>\n",
       "    </tr>\n",
       "    <tr>\n",
       "      <th>2622</th>\n",
       "      <td>satay/712.jpeg</td>\n",
       "      <td>https://www.wellplated.com/wp-content/uploads/...</td>\n",
       "      <td>satay</td>\n",
       "    </tr>\n",
       "    <tr>\n",
       "      <th>2623</th>\n",
       "      <td>satay/715.jpeg</td>\n",
       "      <td>https://img.freepik.com/free-vector/hand-drawn...</td>\n",
       "      <td>satay</td>\n",
       "    </tr>\n",
       "    <tr>\n",
       "      <th>2624</th>\n",
       "      <td>satay/716.jpeg</td>\n",
       "      <td>https://healthyfitnessmeals.com/wp-content/upl...</td>\n",
       "      <td>satay</td>\n",
       "    </tr>\n",
       "    <tr>\n",
       "      <th>2625</th>\n",
       "      <td>satay/717.jpeg</td>\n",
       "      <td>https://findd.sg/custom/domain_1/image_files/s...</td>\n",
       "      <td>satay</td>\n",
       "    </tr>\n",
       "    <tr>\n",
       "      <th>2626</th>\n",
       "      <td>satay/718.jpeg</td>\n",
       "      <td>https://www.recipetineats.com/wp-content/uploa...</td>\n",
       "      <td>satay</td>\n",
       "    </tr>\n",
       "  </tbody>\n",
       "</table>\n",
       "<p>2627 rows × 3 columns</p>\n",
       "</div>"
      ],
      "text/plain": [
       "               image_path                                          image_url  \\\n",
       "0     bbq stingray/1.jpeg  https://eatbook.sg/wp-content/uploads/2018/10/...   \n",
       "1     bbq stingray/2.jpeg  http://sethlui.com/wp-content/uploads/2016/01/...   \n",
       "2     bbq stingray/3.jpeg  https://asianfoodnetwork.com/content/dam/afn/g...   \n",
       "3     bbq stingray/4.jpeg  https://img-global.cpcdn.com/recipes/fb91b51c3...   \n",
       "4     bbq stingray/5.jpeg  https://1.bp.blogspot.com/-v6545h4DEUU/XuNmwrS...   \n",
       "...                   ...                                                ...   \n",
       "2622       satay/712.jpeg  https://www.wellplated.com/wp-content/uploads/...   \n",
       "2623       satay/715.jpeg  https://img.freepik.com/free-vector/hand-drawn...   \n",
       "2624       satay/716.jpeg  https://healthyfitnessmeals.com/wp-content/upl...   \n",
       "2625       satay/717.jpeg  https://findd.sg/custom/domain_1/image_files/s...   \n",
       "2626       satay/718.jpeg  https://www.recipetineats.com/wp-content/uploa...   \n",
       "\n",
       "       image_class  \n",
       "0     bbq stingray  \n",
       "1     bbq stingray  \n",
       "2     bbq stingray  \n",
       "3     bbq stingray  \n",
       "4     bbq stingray  \n",
       "...            ...  \n",
       "2622         satay  \n",
       "2623         satay  \n",
       "2624         satay  \n",
       "2625         satay  \n",
       "2626         satay  \n",
       "\n",
       "[2627 rows x 3 columns]"
      ]
     },
     "execution_count": 13,
     "metadata": {},
     "output_type": "execute_result"
    }
   ],
   "source": [
    "df"
   ]
  },
  {
   "cell_type": "code",
   "execution_count": 15,
   "metadata": {},
   "outputs": [],
   "source": [
    "df.to_csv('cleaned_aash.csv', index=False)"
   ]
  },
  {
   "cell_type": "code",
   "execution_count": null,
   "metadata": {},
   "outputs": [],
   "source": []
  }
 ],
 "metadata": {
  "kernelspec": {
   "display_name": "Python 3.10.6 ('scraping')",
   "language": "python",
   "name": "python3"
  },
  "language_info": {
   "codemirror_mode": {
    "name": "ipython",
    "version": 3
   },
   "file_extension": ".py",
   "mimetype": "text/x-python",
   "name": "python",
   "nbconvert_exporter": "python",
   "pygments_lexer": "ipython3",
   "version": "3.10.6"
  },
  "orig_nbformat": 4,
  "vscode": {
   "interpreter": {
    "hash": "5dd7b35bc8c65e9fe6bd94fc4dc53ff9844d2a9cefe938872e36cb7d0a2117d4"
   }
  }
 },
 "nbformat": 4,
 "nbformat_minor": 2
}
