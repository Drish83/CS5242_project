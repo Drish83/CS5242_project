{
 "cells": [
  {
   "cell_type": "code",
   "execution_count": 1,
   "id": "aed0fda4",
   "metadata": {
    "_cell_guid": "b1076dfc-b9ad-4769-8c92-a6c4dae69d19",
    "_uuid": "8f2839f25d086af736a60e9eeb907d3b93b6e0e5",
    "execution": {
     "iopub.execute_input": "2022-10-24T10:55:00.983936Z",
     "iopub.status.busy": "2022-10-24T10:55:00.983461Z",
     "iopub.status.idle": "2022-10-24T10:55:01.001368Z",
     "shell.execute_reply": "2022-10-24T10:55:01.000156Z"
    },
    "papermill": {
     "duration": 0.02889,
     "end_time": "2022-10-24T10:55:01.003744",
     "exception": false,
     "start_time": "2022-10-24T10:55:00.974854",
     "status": "completed"
    },
    "tags": []
   },
   "outputs": [
    {
     "name": "stdout",
     "output_type": "stream",
     "text": [
      "data_clean_aash\n",
      "cleaned_aash.csv\n",
      "drish_clean.csv\n",
      "data_aash\n",
      "drishti\n",
      "huimin\n"
     ]
    }
   ],
   "source": [
    "# This Python 3 environment comes with many helpful analytics libraries installed\n",
    "# It is defined by the kaggle/python Docker image: https://github.com/kaggle/docker-python\n",
    "# For example, here's several helpful packages to load\n",
    "\n",
    "import numpy as np # linear algebra\n",
    "import pandas as pd # data processing, CSV file I/O (e.g. pd.read_csv)\n",
    "\n",
    "# Input data files are available in the read-only \"../input/\" directory\n",
    "# For example, running this (by clicking run or pressing Shift+Enter) will list all files under the input directory\n",
    "\n",
    "import os\n",
    "for item in os.listdir('/kaggle/input/cs5242data'):\n",
    "#     for filename in filenames:\n",
    "#         print(os.path.join(dirname, filename))\n",
    "    print(item)\n",
    "    \n",
    "from pathlib import Path\n",
    "path = Path('/kaggle/input/cs5242data')\n",
    "# You can write up to 20GB to the current directory (/kaggle/working/) that gets preserved as output when you create a version using \"Save & Run All\" \n",
    "# You can also write temporary files to /kaggle/temp/, but they won't be saved outside of the current session"
   ]
  },
  {
   "cell_type": "code",
   "execution_count": 2,
   "id": "dda6416e",
   "metadata": {
    "execution": {
     "iopub.execute_input": "2022-10-24T10:55:01.017995Z",
     "iopub.status.busy": "2022-10-24T10:55:01.017584Z",
     "iopub.status.idle": "2022-10-24T10:55:01.028867Z",
     "shell.execute_reply": "2022-10-24T10:55:01.028003Z"
    },
    "papermill": {
     "duration": 0.021056,
     "end_time": "2022-10-24T10:55:01.031135",
     "exception": false,
     "start_time": "2022-10-24T10:55:01.010079",
     "status": "completed"
    },
    "tags": []
   },
   "outputs": [],
   "source": [
    "from PIL import Image\n",
    "import imghdr"
   ]
  },
  {
   "cell_type": "code",
   "execution_count": 3,
   "id": "42e9d32b",
   "metadata": {
    "execution": {
     "iopub.execute_input": "2022-10-24T10:55:01.045113Z",
     "iopub.status.busy": "2022-10-24T10:55:01.044459Z",
     "iopub.status.idle": "2022-10-24T10:55:01.079784Z",
     "shell.execute_reply": "2022-10-24T10:55:01.078846Z"
    },
    "papermill": {
     "duration": 0.04485,
     "end_time": "2022-10-24T10:55:01.082145",
     "exception": false,
     "start_time": "2022-10-24T10:55:01.037295",
     "status": "completed"
    },
    "tags": []
   },
   "outputs": [
    {
     "data": {
      "text/plain": [
       "(2627, 3)"
      ]
     },
     "execution_count": 3,
     "metadata": {},
     "output_type": "execute_result"
    }
   ],
   "source": [
    "aash = pd.read_csv(path/'cleaned_aash.csv'); aash.shape"
   ]
  },
  {
   "cell_type": "code",
   "execution_count": 4,
   "id": "554bdb29",
   "metadata": {
    "execution": {
     "iopub.execute_input": "2022-10-24T10:55:01.096195Z",
     "iopub.status.busy": "2022-10-24T10:55:01.095845Z",
     "iopub.status.idle": "2022-10-24T10:55:01.128366Z",
     "shell.execute_reply": "2022-10-24T10:55:01.127325Z"
    },
    "papermill": {
     "duration": 0.042469,
     "end_time": "2022-10-24T10:55:01.130853",
     "exception": false,
     "start_time": "2022-10-24T10:55:01.088384",
     "status": "completed"
    },
    "tags": []
   },
   "outputs": [
    {
     "data": {
      "text/plain": [
       "(1968, 3)"
      ]
     },
     "execution_count": 4,
     "metadata": {},
     "output_type": "execute_result"
    }
   ],
   "source": [
    "drish = pd.read_csv(path/'drish_clean.csv')\n",
    "drish = drish.drop('Unnamed: 0', axis=1)\n",
    "drish.shape"
   ]
  },
  {
   "cell_type": "code",
   "execution_count": 5,
   "id": "5411b265",
   "metadata": {
    "execution": {
     "iopub.execute_input": "2022-10-24T10:55:01.144705Z",
     "iopub.status.busy": "2022-10-24T10:55:01.144370Z",
     "iopub.status.idle": "2022-10-24T10:55:01.149360Z",
     "shell.execute_reply": "2022-10-24T10:55:01.148376Z"
    },
    "papermill": {
     "duration": 0.01458,
     "end_time": "2022-10-24T10:55:01.151617",
     "exception": false,
     "start_time": "2022-10-24T10:55:01.137037",
     "status": "completed"
    },
    "tags": []
   },
   "outputs": [],
   "source": [
    "aash.head()\n",
    "aash.columns = 'image_path,image_url,label'.split(',')"
   ]
  },
  {
   "cell_type": "code",
   "execution_count": 6,
   "id": "fdde3079",
   "metadata": {
    "execution": {
     "iopub.execute_input": "2022-10-24T10:55:01.165972Z",
     "iopub.status.busy": "2022-10-24T10:55:01.165642Z",
     "iopub.status.idle": "2022-10-24T10:55:01.178945Z",
     "shell.execute_reply": "2022-10-24T10:55:01.177870Z"
    },
    "papermill": {
     "duration": 0.023217,
     "end_time": "2022-10-24T10:55:01.181202",
     "exception": false,
     "start_time": "2022-10-24T10:55:01.157985",
     "status": "completed"
    },
    "tags": []
   },
   "outputs": [
    {
     "data": {
      "text/html": [
       "<div>\n",
       "<style scoped>\n",
       "    .dataframe tbody tr th:only-of-type {\n",
       "        vertical-align: middle;\n",
       "    }\n",
       "\n",
       "    .dataframe tbody tr th {\n",
       "        vertical-align: top;\n",
       "    }\n",
       "\n",
       "    .dataframe thead th {\n",
       "        text-align: right;\n",
       "    }\n",
       "</style>\n",
       "<table border=\"1\" class=\"dataframe\">\n",
       "  <thead>\n",
       "    <tr style=\"text-align: right;\">\n",
       "      <th></th>\n",
       "      <th>image_path</th>\n",
       "      <th>image_url</th>\n",
       "      <th>label</th>\n",
       "    </tr>\n",
       "  </thead>\n",
       "  <tbody>\n",
       "    <tr>\n",
       "      <th>0</th>\n",
       "      <td>bbq stingray/1.jpeg</td>\n",
       "      <td>https://eatbook.sg/wp-content/uploads/2018/10/...</td>\n",
       "      <td>bbq stingray</td>\n",
       "    </tr>\n",
       "    <tr>\n",
       "      <th>1</th>\n",
       "      <td>bbq stingray/2.jpeg</td>\n",
       "      <td>http://sethlui.com/wp-content/uploads/2016/01/...</td>\n",
       "      <td>bbq stingray</td>\n",
       "    </tr>\n",
       "    <tr>\n",
       "      <th>2</th>\n",
       "      <td>bbq stingray/3.jpeg</td>\n",
       "      <td>https://asianfoodnetwork.com/content/dam/afn/g...</td>\n",
       "      <td>bbq stingray</td>\n",
       "    </tr>\n",
       "    <tr>\n",
       "      <th>3</th>\n",
       "      <td>bbq stingray/4.jpeg</td>\n",
       "      <td>https://img-global.cpcdn.com/recipes/fb91b51c3...</td>\n",
       "      <td>bbq stingray</td>\n",
       "    </tr>\n",
       "    <tr>\n",
       "      <th>4</th>\n",
       "      <td>bbq stingray/5.jpeg</td>\n",
       "      <td>https://1.bp.blogspot.com/-v6545h4DEUU/XuNmwrS...</td>\n",
       "      <td>bbq stingray</td>\n",
       "    </tr>\n",
       "  </tbody>\n",
       "</table>\n",
       "</div>"
      ],
      "text/plain": [
       "            image_path                                          image_url  \\\n",
       "0  bbq stingray/1.jpeg  https://eatbook.sg/wp-content/uploads/2018/10/...   \n",
       "1  bbq stingray/2.jpeg  http://sethlui.com/wp-content/uploads/2016/01/...   \n",
       "2  bbq stingray/3.jpeg  https://asianfoodnetwork.com/content/dam/afn/g...   \n",
       "3  bbq stingray/4.jpeg  https://img-global.cpcdn.com/recipes/fb91b51c3...   \n",
       "4  bbq stingray/5.jpeg  https://1.bp.blogspot.com/-v6545h4DEUU/XuNmwrS...   \n",
       "\n",
       "          label  \n",
       "0  bbq stingray  \n",
       "1  bbq stingray  \n",
       "2  bbq stingray  \n",
       "3  bbq stingray  \n",
       "4  bbq stingray  "
      ]
     },
     "execution_count": 6,
     "metadata": {},
     "output_type": "execute_result"
    }
   ],
   "source": [
    "aash.head()"
   ]
  },
  {
   "cell_type": "code",
   "execution_count": 7,
   "id": "93ad073e",
   "metadata": {
    "execution": {
     "iopub.execute_input": "2022-10-24T10:55:01.195771Z",
     "iopub.status.busy": "2022-10-24T10:55:01.195408Z",
     "iopub.status.idle": "2022-10-24T10:55:01.205777Z",
     "shell.execute_reply": "2022-10-24T10:55:01.204812Z"
    },
    "papermill": {
     "duration": 0.019927,
     "end_time": "2022-10-24T10:55:01.207911",
     "exception": false,
     "start_time": "2022-10-24T10:55:01.187984",
     "status": "completed"
    },
    "tags": []
   },
   "outputs": [
    {
     "data": {
      "text/html": [
       "<div>\n",
       "<style scoped>\n",
       "    .dataframe tbody tr th:only-of-type {\n",
       "        vertical-align: middle;\n",
       "    }\n",
       "\n",
       "    .dataframe tbody tr th {\n",
       "        vertical-align: top;\n",
       "    }\n",
       "\n",
       "    .dataframe thead th {\n",
       "        text-align: right;\n",
       "    }\n",
       "</style>\n",
       "<table border=\"1\" class=\"dataframe\">\n",
       "  <thead>\n",
       "    <tr style=\"text-align: right;\">\n",
       "      <th></th>\n",
       "      <th>label</th>\n",
       "      <th>image_url</th>\n",
       "      <th>image_path</th>\n",
       "    </tr>\n",
       "  </thead>\n",
       "  <tbody>\n",
       "    <tr>\n",
       "      <th>0</th>\n",
       "      <td>kaya toast</td>\n",
       "      <td>https://upload.wikimedia.org/wikipedia/commons...</td>\n",
       "      <td>drishti/drishti/original/photos/kayatoast0.jpeg</td>\n",
       "    </tr>\n",
       "    <tr>\n",
       "      <th>1</th>\n",
       "      <td>kaya toast</td>\n",
       "      <td>https://eatwhattonight.com/wp-content/uploads/...</td>\n",
       "      <td>drishti/drishti/original/photos/kayatoast1.jpeg</td>\n",
       "    </tr>\n",
       "    <tr>\n",
       "      <th>2</th>\n",
       "      <td>kaya toast</td>\n",
       "      <td>https://www.thebestsingapore.com/wp-content/up...</td>\n",
       "      <td>drishti/drishti/original/photos/kayatoast2.webp</td>\n",
       "    </tr>\n",
       "    <tr>\n",
       "      <th>3</th>\n",
       "      <td>kaya toast</td>\n",
       "      <td>https://www.sbs.com.au/food/sites/sbs.com.au.f...</td>\n",
       "      <td>drishti/drishti/original/photos/kayatoast3.jpeg</td>\n",
       "    </tr>\n",
       "    <tr>\n",
       "      <th>4</th>\n",
       "      <td>kaya toast</td>\n",
       "      <td>https://sethlui.com/wp-content/uploads/2016/06...</td>\n",
       "      <td>drishti/drishti/original/photos/kayatoast4.jpeg</td>\n",
       "    </tr>\n",
       "  </tbody>\n",
       "</table>\n",
       "</div>"
      ],
      "text/plain": [
       "        label                                          image_url  \\\n",
       "0  kaya toast  https://upload.wikimedia.org/wikipedia/commons...   \n",
       "1  kaya toast  https://eatwhattonight.com/wp-content/uploads/...   \n",
       "2  kaya toast  https://www.thebestsingapore.com/wp-content/up...   \n",
       "3  kaya toast  https://www.sbs.com.au/food/sites/sbs.com.au.f...   \n",
       "4  kaya toast  https://sethlui.com/wp-content/uploads/2016/06...   \n",
       "\n",
       "                                        image_path  \n",
       "0  drishti/drishti/original/photos/kayatoast0.jpeg  \n",
       "1  drishti/drishti/original/photos/kayatoast1.jpeg  \n",
       "2  drishti/drishti/original/photos/kayatoast2.webp  \n",
       "3  drishti/drishti/original/photos/kayatoast3.jpeg  \n",
       "4  drishti/drishti/original/photos/kayatoast4.jpeg  "
      ]
     },
     "execution_count": 7,
     "metadata": {},
     "output_type": "execute_result"
    }
   ],
   "source": [
    "drish.head()"
   ]
  },
  {
   "cell_type": "code",
   "execution_count": 8,
   "id": "6db7521e",
   "metadata": {
    "execution": {
     "iopub.execute_input": "2022-10-24T10:55:01.223309Z",
     "iopub.status.busy": "2022-10-24T10:55:01.223011Z",
     "iopub.status.idle": "2022-10-24T10:55:01.962935Z",
     "shell.execute_reply": "2022-10-24T10:55:01.961498Z"
    },
    "papermill": {
     "duration": 0.756236,
     "end_time": "2022-10-24T10:55:01.970431",
     "exception": false,
     "start_time": "2022-10-24T10:55:01.214195",
     "status": "completed"
    },
    "tags": []
   },
   "outputs": [
    {
     "name": "stdout",
     "output_type": "stream",
     "text": [
      "[Errno 2] No such file or directory: '/kaggle/input/cs5242data/kayatoast70.jpeg'\n",
      "[Errno 2] No such file or directory: '/kaggle/input/cs5242data/kayatoast71.jpeg'\n",
      "[Errno 2] No such file or directory: '/kaggle/input/cs5242data/kayatoast72.jpeg'\n",
      "[Errno 2] No such file or directory: '/kaggle/input/cs5242data/kayatoast73.jpeg'\n",
      "[Errno 2] No such file or directory: '/kaggle/input/cs5242data/kayatoast75.png'\n",
      "[Errno 2] No such file or directory: '/kaggle/input/cs5242data/kayatoast76.jpeg'\n",
      "[Errno 2] No such file or directory: '/kaggle/input/cs5242data/kayatoast77.jpeg'\n",
      "[Errno 2] No such file or directory: '/kaggle/input/cs5242data/kayatoast78.jpeg'\n",
      "[Errno 2] No such file or directory: '/kaggle/input/cs5242data/kayatoast79.webp'\n"
     ]
    },
    {
     "data": {
      "text/plain": [
       "(66, {'kaya toast'})"
      ]
     },
     "execution_count": 8,
     "metadata": {},
     "output_type": "execute_result"
    }
   ],
   "source": [
    "set_bad_entries = set()\n",
    "def image_check(row):\n",
    "    try:\n",
    "        Image.open(path/row.image_path)\n",
    "        return True\n",
    "    except Exception as e:\n",
    "        print(e)\n",
    "        set_bad_entries.update([row.label])\n",
    "        return False\n",
    "\n",
    "valid_paths = drish.head(75).apply(image_check, axis=1)\n",
    "valid_paths.sum(), set_bad_entries\n"
   ]
  },
  {
   "cell_type": "code",
   "execution_count": 9,
   "id": "7c200844",
   "metadata": {
    "execution": {
     "iopub.execute_input": "2022-10-24T10:55:01.986306Z",
     "iopub.status.busy": "2022-10-24T10:55:01.985943Z",
     "iopub.status.idle": "2022-10-24T10:55:13.038211Z",
     "shell.execute_reply": "2022-10-24T10:55:13.037336Z"
    },
    "papermill": {
     "duration": 11.062747,
     "end_time": "2022-10-24T10:55:13.040533",
     "exception": false,
     "start_time": "2022-10-24T10:55:01.977786",
     "status": "completed"
    },
    "tags": []
   },
   "outputs": [],
   "source": [
    "drish_path = Path('drishti/drishti/original/photos')\n",
    "def drish_path_fix(row):\n",
    "    try:\n",
    "        filename = row.image_path.split('/')[-1]\n",
    "        Image.open(path/drish_path/filename)\n",
    "        return str(drish_path/filename)\n",
    "    except Exception as e:\n",
    "        print\n",
    "        return None\n",
    "\n",
    "valid_paths = drish.apply(drish_path_fix, axis=1)\n",
    "        "
   ]
  },
  {
   "cell_type": "code",
   "execution_count": 10,
   "id": "23dfb2cb",
   "metadata": {
    "execution": {
     "iopub.execute_input": "2022-10-24T10:55:13.054980Z",
     "iopub.status.busy": "2022-10-24T10:55:13.054659Z",
     "iopub.status.idle": "2022-10-24T10:55:13.061167Z",
     "shell.execute_reply": "2022-10-24T10:55:13.060246Z"
    },
    "papermill": {
     "duration": 0.016221,
     "end_time": "2022-10-24T10:55:13.063405",
     "exception": false,
     "start_time": "2022-10-24T10:55:13.047184",
     "status": "completed"
    },
    "tags": []
   },
   "outputs": [
    {
     "data": {
      "text/plain": [
       "1968"
      ]
     },
     "execution_count": 10,
     "metadata": {},
     "output_type": "execute_result"
    }
   ],
   "source": [
    "valid_paths.notna().sum()"
   ]
  },
  {
   "cell_type": "code",
   "execution_count": 11,
   "id": "5f7d17d9",
   "metadata": {
    "execution": {
     "iopub.execute_input": "2022-10-24T10:55:13.077402Z",
     "iopub.status.busy": "2022-10-24T10:55:13.077070Z",
     "iopub.status.idle": "2022-10-24T10:55:13.083687Z",
     "shell.execute_reply": "2022-10-24T10:55:13.082919Z"
    },
    "papermill": {
     "duration": 0.015884,
     "end_time": "2022-10-24T10:55:13.085851",
     "exception": false,
     "start_time": "2022-10-24T10:55:13.069967",
     "status": "completed"
    },
    "tags": []
   },
   "outputs": [],
   "source": [
    "drish.loc[:, 'image_path'] = valid_paths"
   ]
  },
  {
   "cell_type": "code",
   "execution_count": 12,
   "id": "be01b618",
   "metadata": {
    "execution": {
     "iopub.execute_input": "2022-10-24T10:55:13.100572Z",
     "iopub.status.busy": "2022-10-24T10:55:13.100197Z",
     "iopub.status.idle": "2022-10-24T10:55:14.702020Z",
     "shell.execute_reply": "2022-10-24T10:55:14.700970Z"
    },
    "papermill": {
     "duration": 1.611897,
     "end_time": "2022-10-24T10:55:14.704377",
     "exception": false,
     "start_time": "2022-10-24T10:55:13.092480",
     "status": "completed"
    },
    "tags": []
   },
   "outputs": [
    {
     "data": {
      "text/plain": [
       "1968"
      ]
     },
     "execution_count": 12,
     "metadata": {},
     "output_type": "execute_result"
    }
   ],
   "source": [
    "drish.apply(image_check, axis=1).sum()"
   ]
  },
  {
   "cell_type": "code",
   "execution_count": 13,
   "id": "678cc79e",
   "metadata": {
    "execution": {
     "iopub.execute_input": "2022-10-24T10:55:14.719782Z",
     "iopub.status.busy": "2022-10-24T10:55:14.719409Z",
     "iopub.status.idle": "2022-10-24T10:55:14.761441Z",
     "shell.execute_reply": "2022-10-24T10:55:14.760642Z"
    },
    "papermill": {
     "duration": 0.052544,
     "end_time": "2022-10-24T10:55:14.764071",
     "exception": false,
     "start_time": "2022-10-24T10:55:14.711527",
     "status": "completed"
    },
    "tags": []
   },
   "outputs": [
    {
     "data": {
      "text/html": [
       "<div>\n",
       "<style scoped>\n",
       "    .dataframe tbody tr th:only-of-type {\n",
       "        vertical-align: middle;\n",
       "    }\n",
       "\n",
       "    .dataframe tbody tr th {\n",
       "        vertical-align: top;\n",
       "    }\n",
       "\n",
       "    .dataframe thead th {\n",
       "        text-align: right;\n",
       "    }\n",
       "</style>\n",
       "<table border=\"1\" class=\"dataframe\">\n",
       "  <thead>\n",
       "    <tr style=\"text-align: right;\">\n",
       "      <th></th>\n",
       "      <th>label</th>\n",
       "      <th>image_path</th>\n",
       "    </tr>\n",
       "  </thead>\n",
       "  <tbody>\n",
       "    <tr>\n",
       "      <th>0</th>\n",
       "      <td>chickenrice</td>\n",
       "      <td>images/chickenrice_1334.jpg</td>\n",
       "    </tr>\n",
       "    <tr>\n",
       "      <th>1</th>\n",
       "      <td>chickenrice</td>\n",
       "      <td>images/chickenrice_43.jpg</td>\n",
       "    </tr>\n",
       "    <tr>\n",
       "      <th>2</th>\n",
       "      <td>laksa</td>\n",
       "      <td>images/laksa_191.jpg</td>\n",
       "    </tr>\n",
       "    <tr>\n",
       "      <th>3</th>\n",
       "      <td>chickenrice</td>\n",
       "      <td>images/chickenrice_1452.jpg</td>\n",
       "    </tr>\n",
       "    <tr>\n",
       "      <th>4</th>\n",
       "      <td>chickenrice</td>\n",
       "      <td>images/chickenrice_1446.jpg</td>\n",
       "    </tr>\n",
       "  </tbody>\n",
       "</table>\n",
       "</div>"
      ],
      "text/plain": [
       "         label                   image_path\n",
       "0  chickenrice  images/chickenrice_1334.jpg\n",
       "1  chickenrice    images/chickenrice_43.jpg\n",
       "2        laksa         images/laksa_191.jpg\n",
       "3  chickenrice  images/chickenrice_1452.jpg\n",
       "4  chickenrice  images/chickenrice_1446.jpg"
      ]
     },
     "execution_count": 13,
     "metadata": {},
     "output_type": "execute_result"
    }
   ],
   "source": [
    "huimin_path = Path('huimin/')\n",
    "huimin = pd.read_csv(path/'huimin/final.csv')\n",
    "huimin = huimin.drop('Unnamed: 0', axis=1)\n",
    "huimin.columns = 'label,image_path'.split(',')\n",
    "huimin.head()\n"
   ]
  },
  {
   "cell_type": "code",
   "execution_count": 14,
   "id": "1219493f",
   "metadata": {
    "execution": {
     "iopub.execute_input": "2022-10-24T10:55:14.779347Z",
     "iopub.status.busy": "2022-10-24T10:55:14.779009Z",
     "iopub.status.idle": "2022-10-24T10:55:14.785253Z",
     "shell.execute_reply": "2022-10-24T10:55:14.784251Z"
    },
    "papermill": {
     "duration": 0.016307,
     "end_time": "2022-10-24T10:55:14.787466",
     "exception": false,
     "start_time": "2022-10-24T10:55:14.771159",
     "status": "completed"
    },
    "tags": []
   },
   "outputs": [
    {
     "data": {
      "text/plain": [
       "(2632, 2)"
      ]
     },
     "execution_count": 14,
     "metadata": {},
     "output_type": "execute_result"
    }
   ],
   "source": [
    "huimin.shape"
   ]
  },
  {
   "cell_type": "code",
   "execution_count": 15,
   "id": "2a819181",
   "metadata": {
    "execution": {
     "iopub.execute_input": "2022-10-24T10:55:14.803316Z",
     "iopub.status.busy": "2022-10-24T10:55:14.802423Z",
     "iopub.status.idle": "2022-10-24T10:55:30.932213Z",
     "shell.execute_reply": "2022-10-24T10:55:30.931021Z"
    },
    "papermill": {
     "duration": 16.140146,
     "end_time": "2022-10-24T10:55:30.934674",
     "exception": false,
     "start_time": "2022-10-24T10:55:14.794528",
     "status": "completed"
    },
    "tags": []
   },
   "outputs": [
    {
     "name": "stdout",
     "output_type": "stream",
     "text": [
      "[Errno 2] No such file or directory: '/kaggle/input/cs5242data/huimin/images/.DS_Store'\n"
     ]
    },
    {
     "data": {
      "text/plain": [
       "2631"
      ]
     },
     "execution_count": 15,
     "metadata": {},
     "output_type": "execute_result"
    }
   ],
   "source": [
    "huimin.loc[:, 'image_path'] = huimin.image_path.apply(lambda x: 'huimin/'+x)\n",
    "valid_paths = huimin.apply(image_check, axis=1)\n",
    "valid_paths.sum()"
   ]
  },
  {
   "cell_type": "code",
   "execution_count": 16,
   "id": "7444a9e8",
   "metadata": {
    "execution": {
     "iopub.execute_input": "2022-10-24T10:55:30.951718Z",
     "iopub.status.busy": "2022-10-24T10:55:30.951342Z",
     "iopub.status.idle": "2022-10-24T10:55:30.956650Z",
     "shell.execute_reply": "2022-10-24T10:55:30.955889Z"
    },
    "papermill": {
     "duration": 0.016114,
     "end_time": "2022-10-24T10:55:30.958716",
     "exception": false,
     "start_time": "2022-10-24T10:55:30.942602",
     "status": "completed"
    },
    "tags": []
   },
   "outputs": [],
   "source": [
    "huimin = huimin.loc[valid_paths].reset_index(drop=True)"
   ]
  },
  {
   "cell_type": "code",
   "execution_count": 17,
   "id": "7cdc488d",
   "metadata": {
    "execution": {
     "iopub.execute_input": "2022-10-24T10:55:30.975622Z",
     "iopub.status.busy": "2022-10-24T10:55:30.974986Z",
     "iopub.status.idle": "2022-10-24T10:55:30.981328Z",
     "shell.execute_reply": "2022-10-24T10:55:30.980346Z"
    },
    "papermill": {
     "duration": 0.017056,
     "end_time": "2022-10-24T10:55:30.983412",
     "exception": false,
     "start_time": "2022-10-24T10:55:30.966356",
     "status": "completed"
    },
    "tags": []
   },
   "outputs": [
    {
     "data": {
      "text/plain": [
       "(2631, 2)"
      ]
     },
     "execution_count": 17,
     "metadata": {},
     "output_type": "execute_result"
    }
   ],
   "source": [
    "huimin.shape"
   ]
  },
  {
   "cell_type": "code",
   "execution_count": 18,
   "id": "0d46f5f1",
   "metadata": {
    "execution": {
     "iopub.execute_input": "2022-10-24T10:55:30.999886Z",
     "iopub.status.busy": "2022-10-24T10:55:30.999498Z",
     "iopub.status.idle": "2022-10-24T10:55:31.007432Z",
     "shell.execute_reply": "2022-10-24T10:55:31.006230Z"
    },
    "papermill": {
     "duration": 0.018641,
     "end_time": "2022-10-24T10:55:31.009665",
     "exception": false,
     "start_time": "2022-10-24T10:55:30.991024",
     "status": "completed"
    },
    "tags": []
   },
   "outputs": [],
   "source": [
    "aash.loc[:, 'image_path'] = aash.image_path.apply(lambda x: 'data_clean_aash/'+x)"
   ]
  },
  {
   "cell_type": "code",
   "execution_count": 19,
   "id": "9a8b192c",
   "metadata": {
    "execution": {
     "iopub.execute_input": "2022-10-24T10:55:31.026537Z",
     "iopub.status.busy": "2022-10-24T10:55:31.025787Z",
     "iopub.status.idle": "2022-10-24T10:55:31.036441Z",
     "shell.execute_reply": "2022-10-24T10:55:31.035615Z"
    },
    "papermill": {
     "duration": 0.021207,
     "end_time": "2022-10-24T10:55:31.038423",
     "exception": false,
     "start_time": "2022-10-24T10:55:31.017216",
     "status": "completed"
    },
    "tags": []
   },
   "outputs": [],
   "source": [
    "merged_df = pd.DataFrame()\n",
    "\n",
    "for df in [aash, drish, huimin]:\n",
    "    merged_df = pd.concat((merged_df, df[['image_path', 'label']]), ignore_index=True)"
   ]
  },
  {
   "cell_type": "code",
   "execution_count": 20,
   "id": "3138f823",
   "metadata": {
    "execution": {
     "iopub.execute_input": "2022-10-24T10:55:31.055215Z",
     "iopub.status.busy": "2022-10-24T10:55:31.054414Z",
     "iopub.status.idle": "2022-10-24T10:55:31.065461Z",
     "shell.execute_reply": "2022-10-24T10:55:31.064499Z"
    },
    "papermill": {
     "duration": 0.021785,
     "end_time": "2022-10-24T10:55:31.067858",
     "exception": false,
     "start_time": "2022-10-24T10:55:31.046073",
     "status": "completed"
    },
    "tags": []
   },
   "outputs": [
    {
     "data": {
      "text/html": [
       "<div>\n",
       "<style scoped>\n",
       "    .dataframe tbody tr th:only-of-type {\n",
       "        vertical-align: middle;\n",
       "    }\n",
       "\n",
       "    .dataframe tbody tr th {\n",
       "        vertical-align: top;\n",
       "    }\n",
       "\n",
       "    .dataframe thead th {\n",
       "        text-align: right;\n",
       "    }\n",
       "</style>\n",
       "<table border=\"1\" class=\"dataframe\">\n",
       "  <thead>\n",
       "    <tr style=\"text-align: right;\">\n",
       "      <th></th>\n",
       "      <th>image_path</th>\n",
       "      <th>label</th>\n",
       "    </tr>\n",
       "  </thead>\n",
       "  <tbody>\n",
       "    <tr>\n",
       "      <th>0</th>\n",
       "      <td>data_clean_aash/bbq stingray/1.jpeg</td>\n",
       "      <td>bbq stingray</td>\n",
       "    </tr>\n",
       "    <tr>\n",
       "      <th>1</th>\n",
       "      <td>data_clean_aash/bbq stingray/2.jpeg</td>\n",
       "      <td>bbq stingray</td>\n",
       "    </tr>\n",
       "    <tr>\n",
       "      <th>2</th>\n",
       "      <td>data_clean_aash/bbq stingray/3.jpeg</td>\n",
       "      <td>bbq stingray</td>\n",
       "    </tr>\n",
       "    <tr>\n",
       "      <th>3</th>\n",
       "      <td>data_clean_aash/bbq stingray/4.jpeg</td>\n",
       "      <td>bbq stingray</td>\n",
       "    </tr>\n",
       "    <tr>\n",
       "      <th>4</th>\n",
       "      <td>data_clean_aash/bbq stingray/5.jpeg</td>\n",
       "      <td>bbq stingray</td>\n",
       "    </tr>\n",
       "    <tr>\n",
       "      <th>...</th>\n",
       "      <td>...</td>\n",
       "      <td>...</td>\n",
       "    </tr>\n",
       "    <tr>\n",
       "      <th>7221</th>\n",
       "      <td>huimin/images/chickenrice_1339.jpg</td>\n",
       "      <td>chickenrice</td>\n",
       "    </tr>\n",
       "    <tr>\n",
       "      <th>7222</th>\n",
       "      <td>huimin/images/wantonnoodle_801.jpg</td>\n",
       "      <td>wantonnoodle</td>\n",
       "    </tr>\n",
       "    <tr>\n",
       "      <th>7223</th>\n",
       "      <td>huimin/images/laksa_37.jpg</td>\n",
       "      <td>laksa</td>\n",
       "    </tr>\n",
       "    <tr>\n",
       "      <th>7224</th>\n",
       "      <td>huimin/images/prawnnoodle_723.jpg</td>\n",
       "      <td>prawnnoodle</td>\n",
       "    </tr>\n",
       "    <tr>\n",
       "      <th>7225</th>\n",
       "      <td>huimin/images/wantonnoodle_815.jpg</td>\n",
       "      <td>wantonnoodle</td>\n",
       "    </tr>\n",
       "  </tbody>\n",
       "</table>\n",
       "<p>7226 rows × 2 columns</p>\n",
       "</div>"
      ],
      "text/plain": [
       "                               image_path         label\n",
       "0     data_clean_aash/bbq stingray/1.jpeg  bbq stingray\n",
       "1     data_clean_aash/bbq stingray/2.jpeg  bbq stingray\n",
       "2     data_clean_aash/bbq stingray/3.jpeg  bbq stingray\n",
       "3     data_clean_aash/bbq stingray/4.jpeg  bbq stingray\n",
       "4     data_clean_aash/bbq stingray/5.jpeg  bbq stingray\n",
       "...                                   ...           ...\n",
       "7221   huimin/images/chickenrice_1339.jpg   chickenrice\n",
       "7222   huimin/images/wantonnoodle_801.jpg  wantonnoodle\n",
       "7223           huimin/images/laksa_37.jpg         laksa\n",
       "7224    huimin/images/prawnnoodle_723.jpg   prawnnoodle\n",
       "7225   huimin/images/wantonnoodle_815.jpg  wantonnoodle\n",
       "\n",
       "[7226 rows x 2 columns]"
      ]
     },
     "execution_count": 20,
     "metadata": {},
     "output_type": "execute_result"
    }
   ],
   "source": [
    "merged_df"
   ]
  },
  {
   "cell_type": "code",
   "execution_count": 21,
   "id": "d236584d",
   "metadata": {
    "execution": {
     "iopub.execute_input": "2022-10-24T10:55:31.084974Z",
     "iopub.status.busy": "2022-10-24T10:55:31.084108Z",
     "iopub.status.idle": "2022-10-24T10:55:48.676800Z",
     "shell.execute_reply": "2022-10-24T10:55:48.676006Z"
    },
    "papermill": {
     "duration": 17.603588,
     "end_time": "2022-10-24T10:55:48.679011",
     "exception": false,
     "start_time": "2022-10-24T10:55:31.075423",
     "status": "completed"
    },
    "tags": []
   },
   "outputs": [],
   "source": [
    "valid_paths = merged_df.apply(image_check, axis=1)"
   ]
  },
  {
   "cell_type": "code",
   "execution_count": 22,
   "id": "2327997e",
   "metadata": {
    "execution": {
     "iopub.execute_input": "2022-10-24T10:55:48.696607Z",
     "iopub.status.busy": "2022-10-24T10:55:48.695806Z",
     "iopub.status.idle": "2022-10-24T10:55:48.702006Z",
     "shell.execute_reply": "2022-10-24T10:55:48.701080Z"
    },
    "papermill": {
     "duration": 0.016819,
     "end_time": "2022-10-24T10:55:48.703954",
     "exception": false,
     "start_time": "2022-10-24T10:55:48.687135",
     "status": "completed"
    },
    "tags": []
   },
   "outputs": [
    {
     "data": {
      "text/plain": [
       "7226"
      ]
     },
     "execution_count": 22,
     "metadata": {},
     "output_type": "execute_result"
    }
   ],
   "source": [
    "valid_paths.sum()"
   ]
  },
  {
   "cell_type": "code",
   "execution_count": 23,
   "id": "984b2151",
   "metadata": {
    "execution": {
     "iopub.execute_input": "2022-10-24T10:55:48.721269Z",
     "iopub.status.busy": "2022-10-24T10:55:48.720486Z",
     "iopub.status.idle": "2022-10-24T10:55:48.739413Z",
     "shell.execute_reply": "2022-10-24T10:55:48.738735Z"
    },
    "papermill": {
     "duration": 0.029332,
     "end_time": "2022-10-24T10:55:48.741415",
     "exception": false,
     "start_time": "2022-10-24T10:55:48.712083",
     "status": "completed"
    },
    "tags": []
   },
   "outputs": [],
   "source": [
    "merged_df.to_csv('merged.csv', index=False)"
   ]
  },
  {
   "cell_type": "code",
   "execution_count": null,
   "id": "e5a98220",
   "metadata": {
    "papermill": {
     "duration": 0.007306,
     "end_time": "2022-10-24T10:55:48.756401",
     "exception": false,
     "start_time": "2022-10-24T10:55:48.749095",
     "status": "completed"
    },
    "tags": []
   },
   "outputs": [],
   "source": []
  }
 ],
 "metadata": {
  "kernelspec": {
   "display_name": "Python 3",
   "language": "python",
   "name": "python3"
  },
  "language_info": {
   "codemirror_mode": {
    "name": "ipython",
    "version": 3
   },
   "file_extension": ".py",
   "mimetype": "text/x-python",
   "name": "python",
   "nbconvert_exporter": "python",
   "pygments_lexer": "ipython3",
   "version": "3.7.12"
  },
  "papermill": {
   "default_parameters": {},
   "duration": 56.5158,
   "end_time": "2022-10-24T10:55:49.384846",
   "environment_variables": {},
   "exception": null,
   "input_path": "__notebook__.ipynb",
   "output_path": "__notebook__.ipynb",
   "parameters": {},
   "start_time": "2022-10-24T10:54:52.869046",
   "version": "2.3.4"
  }
 },
 "nbformat": 4,
 "nbformat_minor": 5
}
